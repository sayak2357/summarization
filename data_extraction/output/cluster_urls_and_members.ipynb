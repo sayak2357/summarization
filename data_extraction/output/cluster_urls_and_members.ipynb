{
 "cells": [
  {
   "cell_type": "code",
   "execution_count": null,
   "metadata": {},
   "outputs": [],
   "source": [
    "from bs4 import BeautifulSoup\n",
    "from urllib.parse import urlparse\n",
    "import operator"
   ]
  },
  {
   "cell_type": "code",
   "execution_count": null,
   "metadata": {
    "scrolled": false
   },
   "outputs": [],
   "source": [
    "import os\n",
    "directory = 'urls'\n",
    "dict1={}\n",
    "dict2={}\n",
    "for filename in os.listdir(directory):\n",
    "    ##print(filename)\n",
    "    fname='urls/'+filename\n",
    "    f1=open(fname)\n",
    "    j=filename.split('_')\n",
    "    name=j[0]\n",
    "    #print(name)\n",
    "    soup1=BeautifulSoup(f1,'html.parser')\n",
    "    result1=soup1.find_all('url')\n",
    "    \n",
    "    for k in range(0,len(result1)):\n",
    "        try:\n",
    "            \n",
    "            unurl=result1[k].text\n",
    "            data = urlparse(unurl)\n",
    "            murl=data.netloc\n",
    "            if len(murl)<8:\n",
    "                continue\n",
    "            else:\n",
    "                #print(name,murl)\n",
    "                #dict1[name]=murl\n",
    "                if murl in dict2:\n",
    "                    dict2[murl]+=1\n",
    "                else:\n",
    "                    dict2[murl]=1\n",
    "        except:\n",
    "            continue\n",
    "\n",
    "f1.close()    \n",
    "    \n",
    "  "
   ]
  },
  {
   "cell_type": "code",
   "execution_count": null,
   "metadata": {},
   "outputs": [],
   "source": [
    "#print(dict2)\n",
    "#sorted_by_value = sorted(dict2.items(), key=lambda kv: kv[1])\n",
    "#print(sorted_by_value)\n",
    "a1_sorted_keys = sorted(dict2, key=dict2.get, reverse=True)\n",
    "dict3={}\n",
    "for r in a1_sorted_keys:\n",
    "    dict3[r]=dict2[r]\n",
    "print(len(dict3))"
   ]
  },
  {
   "cell_type": "code",
   "execution_count": null,
   "metadata": {},
   "outputs": [],
   "source": [
    "d=0\n",
    "for v in dict3:\n",
    "    print('cluster=',d)\n",
    "    d+=1\n",
    "    print(v)\n",
    "    directory = 'urls'\n",
    "    for filename in os.listdir(directory):\n",
    "        fname='urls/'+filename\n",
    "        f1=open(fname)\n",
    "        j=filename.split('_')\n",
    "        name=j[0]\n",
    "        soup1=BeautifulSoup(f1,'html.parser')\n",
    "        result1=soup1.find_all('url')\n",
    "        for k in range(0,len(result1)):\n",
    "            try:\n",
    "                unurl=result1[k].text\n",
    "                data = urlparse(unurl)\n",
    "                murl=data.netloc\n",
    "                if murl == v:\n",
    "                    print(unurl)\n",
    "            except:\n",
    "                continue"
   ]
  },
  {
   "cell_type": "code",
   "execution_count": null,
   "metadata": {},
   "outputs": [],
   "source": []
  }
 ],
 "metadata": {
  "kernelspec": {
   "display_name": "Python 3",
   "language": "python",
   "name": "python3"
  },
  "language_info": {
   "codemirror_mode": {
    "name": "ipython",
    "version": 3
   },
   "file_extension": ".py",
   "mimetype": "text/x-python",
   "name": "python",
   "nbconvert_exporter": "python",
   "pygments_lexer": "ipython3",
   "version": "3.6.6"
  }
 },
 "nbformat": 4,
 "nbformat_minor": 2
}
