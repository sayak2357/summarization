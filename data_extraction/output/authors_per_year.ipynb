{
 "cells": [
  {
   "cell_type": "code",
   "execution_count": 1,
   "metadata": {},
   "outputs": [],
   "source": [
    "from bs4 import BeautifulSoup"
   ]
  },
  {
   "cell_type": "code",
   "execution_count": 2,
   "metadata": {},
   "outputs": [],
   "source": [
    "y=[]\n",
    "auth=[]"
   ]
  },
  {
   "cell_type": "markdown",
   "metadata": {},
   "source": [
    "# ACL authors"
   ]
  },
  {
   "cell_type": "code",
   "execution_count": 3,
   "metadata": {},
   "outputs": [],
   "source": [
    "uni_authors={}\n",
    "cumulative_authors=[]\n",
    "for j in range(79,100):\n",
    "    n1='acl/acl'+str(j)+'.txt'\n",
    "    f1=open(n1,'r')\n",
    "    \n",
    "    soup1=BeautifulSoup(f1,'html.parser')\n",
    "    result1=soup1.find_all('author')\n",
    "   \n",
    "    unique_name={}\n",
    "    authors=len(result1)\n",
    "    unique_authors={}\n",
    "    \n",
    "    for k in range(0,len(result1)):\n",
    "        fname=result1[k].firstname.text\n",
    "        sname=result1[k].secondname.text\n",
    "        uname=fname+sname\n",
    "        if uname in unique_authors:\n",
    "            a=unique_authors[uname]\n",
    "            a=a+1\n",
    "            unique_authors[uname]=a\n",
    "        else:\n",
    "            unique_authors[uname]=1\n",
    "        if uname in uni_authors:\n",
    "            a=uni_authors[uname]\n",
    "            a=a+1\n",
    "            uni_authors[uname]=a\n",
    "        else:\n",
    "            uni_authors[uname]=1\n",
    "    #print(authors,len(unique_authors))\n",
    "    uniauth= int(len(unique_authors))\n",
    "    cuni=int(len(uni_authors))\n",
    "    #print(papersbyauthors)\n",
    "    cumulative_authors.append(cuni)\n",
    "    auth.append(uniauth)\n",
    "    y.append(j)\n",
    "\n",
    "f1.close()"
   ]
  },
  {
   "cell_type": "code",
   "execution_count": null,
   "metadata": {},
   "outputs": [],
   "source": []
  },
  {
   "cell_type": "code",
   "execution_count": 4,
   "metadata": {},
   "outputs": [
    {
     "name": "stdout",
     "output_type": "stream",
     "text": [
      "[79, 80, 81, 82, 83, 84, 85, 86, 87, 88, 89, 90, 91, 92, 93, 94, 95, 96, 97, 98, 99]\n"
     ]
    }
   ],
   "source": [
    "print(y)"
   ]
  },
  {
   "cell_type": "code",
   "execution_count": 5,
   "metadata": {},
   "outputs": [
    {
     "name": "stdout",
     "output_type": "stream",
     "text": [
      "[31, 87, 115, 155, 175, 311, 350, 401, 434, 469, 505, 543, 604, 667, 729, 780, 838, 883, 965, 1172, 1271]\n"
     ]
    }
   ],
   "source": [
    "print(cumulative_authors)"
   ]
  },
  {
   "cell_type": "code",
   "execution_count": 6,
   "metadata": {},
   "outputs": [],
   "source": [
    "auth_added=[]\n",
    "auth_added.append(cumulative_authors[0])\n",
    "for i in range(1,len(cumulative_authors)):\n",
    "    x=cumulative_authors[i] - cumulative_authors[i-1]\n",
    "    auth_added.append(x)"
   ]
  },
  {
   "cell_type": "code",
   "execution_count": 7,
   "metadata": {},
   "outputs": [],
   "source": [
    "old_authors=[]\n",
    "for i in range(0,len(auth)):\n",
    "    x=auth[i] - auth_added[i]\n",
    "    old_authors.append(x)"
   ]
  },
  {
   "cell_type": "code",
   "execution_count": 8,
   "metadata": {},
   "outputs": [
    {
     "name": "stdout",
     "output_type": "stream",
     "text": [
      "[0, 2, 11, 13, 14, 27, 21, 19, 25, 26, 18, 19, 25, 18, 24, 32, 26, 36, 52, 58, 54]\n"
     ]
    }
   ],
   "source": [
    "print(old_authors)"
   ]
  },
  {
   "cell_type": "code",
   "execution_count": 9,
   "metadata": {},
   "outputs": [
    {
     "name": "stdout",
     "output_type": "stream",
     "text": [
      "[31, 58, 39, 53, 34, 163, 60, 70, 58, 61, 54, 57, 86, 81, 86, 83, 84, 81, 134, 265, 153]\n"
     ]
    }
   ],
   "source": [
    "print(auth)"
   ]
  },
  {
   "cell_type": "code",
   "execution_count": 10,
   "metadata": {},
   "outputs": [
    {
     "name": "stdout",
     "output_type": "stream",
     "text": [
      "0\n",
      "1\n",
      "2\n",
      "3\n",
      "4\n",
      "5\n",
      "6\n",
      "7\n",
      "8\n",
      "9\n",
      "10\n",
      "11\n",
      "12\n",
      "13\n",
      "14\n",
      "15\n",
      "16\n",
      "17\n",
      "18\n"
     ]
    }
   ],
   "source": [
    "\n",
    "for j in range(0,19):\n",
    "    n1='acl/acl'+str(j)+'.txt'\n",
    "    \n",
    "    f1=open(n1,errors='ignore')\n",
    "    print(j)\n",
    "    soup1=BeautifulSoup(f1,'html.parser')\n",
    "    result1=soup1.find_all('author')\n",
    "    unique_name={}\n",
    "    authors=len(result1)\n",
    "    unique_authors={}\n",
    "    \n",
    "    for k in range(0,len(result1)):\n",
    "        fname=result1[k].firstname.text\n",
    "        sname=result1[k].secondname.text\n",
    "        uname=fname+sname\n",
    "        if uname in unique_authors:\n",
    "            a=unique_authors[uname]\n",
    "            a=a+1\n",
    "            unique_authors[uname]=a\n",
    "        else:\n",
    "            unique_authors[uname]=1\n",
    "        if uname in uni_authors:\n",
    "            a=uni_authors[uname]\n",
    "            a=a+1\n",
    "            uni_authors[uname]=a\n",
    "        else:\n",
    "            uni_authors[uname]=1\n",
    "    #print(authors,len(unique_authors))\n",
    "    uniauth= int(len(unique_authors))\n",
    "    cuni=int(len(uni_authors))\n",
    "    #print(papersbyauthors)\n",
    "    cumulative_authors.append(cuni)\n",
    "    #print(papersbyauthors)\n",
    "    auth.append(uniauth)\n",
    "    y.append(j)\n",
    "\n",
    "f1.close()"
   ]
  },
  {
   "cell_type": "code",
   "execution_count": 11,
   "metadata": {},
   "outputs": [
    {
     "name": "stdout",
     "output_type": "stream",
     "text": [
      "[79, 80, 81, 82, 83, 84, 85, 86, 87, 88, 89, 90, 91, 92, 93, 94, 95, 96, 97, 98, 99, 0, 1, 2, 3, 4, 5, 6, 7, 8, 9, 10, 11, 12, 13, 14, 15, 16, 17, 18]\n"
     ]
    }
   ],
   "source": [
    "print(y)"
   ]
  },
  {
   "cell_type": "code",
   "execution_count": 12,
   "metadata": {},
   "outputs": [
    {
     "name": "stdout",
     "output_type": "stream",
     "text": [
      "[31, 87, 115, 155, 175, 311, 350, 401, 434, 469, 505, 543, 604, 667, 729, 780, 838, 883, 965, 1172, 1271, 1378, 1485, 1569, 1668, 1828, 1978, 2181, 2460, 2712, 3057, 3360, 3770, 4046, 4565, 4944, 5499, 6033, 6584, 7368]\n"
     ]
    }
   ],
   "source": [
    "print(cumulative_authors)"
   ]
  },
  {
   "cell_type": "code",
   "execution_count": 13,
   "metadata": {},
   "outputs": [],
   "source": [
    "auth_added=[]\n",
    "auth_added.append(cumulative_authors[0])\n",
    "for i in range(1,len(cumulative_authors)):\n",
    "    x=cumulative_authors[i] - cumulative_authors[i-1]\n",
    "    auth_added.append(x)"
   ]
  },
  {
   "cell_type": "code",
   "execution_count": 14,
   "metadata": {},
   "outputs": [
    {
     "name": "stdout",
     "output_type": "stream",
     "text": [
      "[31, 56, 28, 40, 20, 136, 39, 51, 33, 35, 36, 38, 61, 63, 62, 51, 58, 45, 82, 207, 99, 107, 107, 84, 99, 160, 150, 203, 279, 252, 345, 303, 410, 276, 519, 379, 555, 534, 551, 784]\n"
     ]
    }
   ],
   "source": [
    "print(auth_added)"
   ]
  },
  {
   "cell_type": "code",
   "execution_count": 15,
   "metadata": {},
   "outputs": [
    {
     "name": "stdout",
     "output_type": "stream",
     "text": [
      "40\n"
     ]
    }
   ],
   "source": [
    "print(len(auth_added))"
   ]
  },
  {
   "cell_type": "code",
   "execution_count": 16,
   "metadata": {},
   "outputs": [
    {
     "name": "stdout",
     "output_type": "stream",
     "text": [
      "[31, 58, 39, 53, 34, 163, 60, 70, 58, 61, 54, 57, 86, 81, 86, 83, 84, 81, 134, 265, 153, 155, 168, 146, 171, 269, 257, 349, 444, 446, 581, 581, 759, 563, 970, 834, 989, 1025, 1039, 1323]\n"
     ]
    }
   ],
   "source": [
    "print(auth)"
   ]
  },
  {
   "cell_type": "code",
   "execution_count": 17,
   "metadata": {},
   "outputs": [
    {
     "name": "stdout",
     "output_type": "stream",
     "text": [
      "321.5\n"
     ]
    }
   ],
   "source": [
    "print(sum(auth)/len(auth))"
   ]
  },
  {
   "cell_type": "code",
   "execution_count": 18,
   "metadata": {},
   "outputs": [
    {
     "name": "stdout",
     "output_type": "stream",
     "text": [
      "40\n"
     ]
    }
   ],
   "source": [
    "print(len(auth))"
   ]
  },
  {
   "cell_type": "code",
   "execution_count": 19,
   "metadata": {},
   "outputs": [],
   "source": [
    "old_authors=[]\n",
    "for i in range(0,len(auth)):\n",
    "    x=auth[i] - auth_added[i]\n",
    "    old_authors.append(x)"
   ]
  },
  {
   "cell_type": "code",
   "execution_count": 20,
   "metadata": {},
   "outputs": [
    {
     "name": "stdout",
     "output_type": "stream",
     "text": [
      "[0, 2, 11, 13, 14, 27, 21, 19, 25, 26, 18, 19, 25, 18, 24, 32, 26, 36, 52, 58, 54, 48, 61, 62, 72, 109, 107, 146, 165, 194, 236, 278, 349, 287, 451, 455, 434, 491, 488, 539]\n"
     ]
    }
   ],
   "source": [
    "print(old_authors)"
   ]
  },
  {
   "cell_type": "code",
   "execution_count": 21,
   "metadata": {},
   "outputs": [
    {
     "name": "stdout",
     "output_type": "stream",
     "text": [
      "40\n"
     ]
    }
   ],
   "source": [
    "print(len(old_authors))"
   ]
  },
  {
   "cell_type": "code",
   "execution_count": 22,
   "metadata": {},
   "outputs": [],
   "source": [
    "new_authors=[]\n",
    "for i in range(0,len(auth)):\n",
    "    x= auth[i] -old_authors[i]\n",
    "    new_authors.append(x)"
   ]
  },
  {
   "cell_type": "code",
   "execution_count": 23,
   "metadata": {},
   "outputs": [
    {
     "name": "stdout",
     "output_type": "stream",
     "text": [
      "[31, 56, 28, 40, 20, 136, 39, 51, 33, 35, 36, 38, 61, 63, 62, 51, 58, 45, 82, 207, 99, 107, 107, 84, 99, 160, 150, 203, 279, 252, 345, 303, 410, 276, 519, 379, 555, 534, 551, 784]\n"
     ]
    }
   ],
   "source": [
    "print(new_authors)"
   ]
  },
  {
   "cell_type": "code",
   "execution_count": 24,
   "metadata": {},
   "outputs": [
    {
     "name": "stdout",
     "output_type": "stream",
     "text": [
      "40\n",
      "40\n"
     ]
    }
   ],
   "source": [
    "print(len(old_authors))\n",
    "print(len(new_authors))"
   ]
  },
  {
   "cell_type": "code",
   "execution_count": 25,
   "metadata": {},
   "outputs": [
    {
     "name": "stdout",
     "output_type": "stream",
     "text": [
      "0.0 0.034482758620689655 0.28205128205128205 0.24528301886792453 0.4117647058823529 0.1656441717791411 0.35 0.2714285714285714 0.43103448275862066 0.4262295081967213 0.3333333333333333 0.3333333333333333 0.29069767441860467 0.2222222222222222 0.27906976744186046 0.3855421686746988 0.30952380952380953 0.4444444444444444 0.3880597014925373 0.2188679245283019 0.35294117647058826 0.3096774193548387 0.3630952380952381 0.4246575342465753 0.42105263157894735 0.4052044609665427 0.4163424124513619 0.4183381088825215 0.3716216216216216 0.4349775784753363 0.40619621342512907 0.4784853700516351 0.4598155467720685 0.5097690941385435 0.46494845360824744 0.5455635491606715 0.43882709807886755 0.4790243902439024 0.46968238691049086 0.4074074074074074 "
     ]
    }
   ],
   "source": [
    "for i in range(0,len(old_authors)):\n",
    "    x=old_authors[i]/(old_authors[i]+new_authors[i])\n",
    "    print(x,end=\" \")"
   ]
  },
  {
   "cell_type": "code",
   "execution_count": 26,
   "metadata": {},
   "outputs": [
    {
     "name": "stdout",
     "output_type": "stream",
     "text": [
      "1.0 0.9655172413793104 0.717948717948718 0.7547169811320755 0.5882352941176471 0.8343558282208589 0.65 0.7285714285714285 0.5689655172413793 0.5737704918032787 0.6666666666666666 0.6666666666666666 0.7093023255813954 0.7777777777777778 0.7209302325581395 0.6144578313253012 0.6904761904761905 0.5555555555555556 0.6119402985074627 0.7811320754716982 0.6470588235294118 0.6903225806451613 0.6369047619047619 0.5753424657534246 0.5789473684210527 0.5947955390334573 0.5836575875486382 0.5816618911174785 0.6283783783783784 0.5650224215246636 0.5938037865748709 0.5215146299483648 0.5401844532279315 0.49023090586145646 0.5350515463917526 0.45443645083932854 0.5611729019211324 0.5209756097560976 0.5303176130895092 0.5925925925925926 "
     ]
    }
   ],
   "source": [
    "for i in range(0,len(old_authors)):\n",
    "    x=new_authors[i]/(old_authors[i]+new_authors[i])\n",
    "    print(x,end=\" \")"
   ]
  },
  {
   "cell_type": "markdown",
   "metadata": {},
   "source": [
    "# NAACL authors"
   ]
  },
  {
   "cell_type": "code",
   "execution_count": 27,
   "metadata": {},
   "outputs": [],
   "source": [
    "y=[]\n",
    "auth=[]"
   ]
  },
  {
   "cell_type": "code",
   "execution_count": 28,
   "metadata": {},
   "outputs": [],
   "source": [
    "uni_authors={}\n",
    "cumulative_authors=[]\n",
    "for j in range(0,19):\n",
    "   \n",
    "    n1='naacl/naacl'+str(j)+'.txt'\n",
    "    try:\n",
    "        f1=open(n1,errors='ignore')\n",
    "    except:\n",
    "        continue\n",
    "    soup1=BeautifulSoup(f1,'html.parser')\n",
    "    result1=soup1.find_all('author')\n",
    "    unique_name={}\n",
    "    authors=len(result1)\n",
    "    unique_authors={}\n",
    "    \n",
    "    for k in range(0,len(result1)):\n",
    "        fname=result1[k].firstname.text\n",
    "        sname=result1[k].secondname.text\n",
    "        uname=fname+sname\n",
    "        if uname in unique_authors:\n",
    "            a=unique_authors[uname]\n",
    "            a=a+1\n",
    "            unique_authors[uname]=a\n",
    "        else:\n",
    "            unique_authors[uname]=1\n",
    "        if uname in uni_authors:\n",
    "            a=uni_authors[uname]\n",
    "            a=a+1\n",
    "            uni_authors[uname]=a\n",
    "        else:\n",
    "            uni_authors[uname]=1\n",
    "    #print(authors,len(unique_authors))\n",
    "    uniauth= int(len(unique_authors))\n",
    "    #print(papersbyauthors)\n",
    "    cuni=int(len(uni_authors))\n",
    "    #print(papersbyauthors)\n",
    "    cumulative_authors.append(cuni)\n",
    "    auth.append(uniauth)\n",
    "    y.append(j)\n",
    "\n",
    "f1.close()"
   ]
  },
  {
   "cell_type": "code",
   "execution_count": 29,
   "metadata": {},
   "outputs": [
    {
     "name": "stdout",
     "output_type": "stream",
     "text": [
      "[0, 1, 3, 4, 6, 7, 9, 10, 12, 13, 15, 16, 18]\n"
     ]
    }
   ],
   "source": [
    "print(y)"
   ]
  },
  {
   "cell_type": "code",
   "execution_count": 30,
   "metadata": {},
   "outputs": [
    {
     "name": "stdout",
     "output_type": "stream",
     "text": [
      "[182, 57, 254, 189, 311, 299, 458, 383, 275, 402, 621, 616, 1082]\n"
     ]
    }
   ],
   "source": [
    "print(auth)"
   ]
  },
  {
   "cell_type": "code",
   "execution_count": 31,
   "metadata": {},
   "outputs": [
    {
     "name": "stdout",
     "output_type": "stream",
     "text": [
      "[182, 225, 448, 597, 849, 1054, 1401, 1650, 1815, 2053, 2492, 2895, 3682]\n"
     ]
    }
   ],
   "source": [
    "print(cumulative_authors)"
   ]
  },
  {
   "cell_type": "code",
   "execution_count": 32,
   "metadata": {},
   "outputs": [],
   "source": [
    "auth_added=[]\n",
    "auth_added.append(cumulative_authors[0])\n",
    "for i in range(1,len(cumulative_authors)):\n",
    "    x=cumulative_authors[i] - cumulative_authors[i-1]\n",
    "    auth_added.append(x)"
   ]
  },
  {
   "cell_type": "code",
   "execution_count": 33,
   "metadata": {},
   "outputs": [],
   "source": [
    "old_authors=[]\n",
    "for i in range(0,len(auth)):\n",
    "    x=auth[i] - auth_added[i]\n",
    "    old_authors.append(x)"
   ]
  },
  {
   "cell_type": "code",
   "execution_count": 34,
   "metadata": {},
   "outputs": [
    {
     "name": "stdout",
     "output_type": "stream",
     "text": [
      "[0, 14, 31, 40, 59, 94, 111, 134, 110, 164, 182, 213, 295]\n"
     ]
    }
   ],
   "source": [
    "print(old_authors)"
   ]
  },
  {
   "cell_type": "code",
   "execution_count": 35,
   "metadata": {},
   "outputs": [
    {
     "name": "stdout",
     "output_type": "stream",
     "text": [
      "13\n"
     ]
    }
   ],
   "source": [
    "print(len(old_authors))"
   ]
  },
  {
   "cell_type": "code",
   "execution_count": 36,
   "metadata": {},
   "outputs": [],
   "source": [
    "new_authors=[]\n",
    "for i in range(0,len(auth)):\n",
    "    x= auth[i] -old_authors[i]\n",
    "    new_authors.append(x)"
   ]
  },
  {
   "cell_type": "code",
   "execution_count": 37,
   "metadata": {},
   "outputs": [
    {
     "name": "stdout",
     "output_type": "stream",
     "text": [
      "[182, 43, 223, 149, 252, 205, 347, 249, 165, 238, 439, 403, 787]\n",
      "13\n"
     ]
    }
   ],
   "source": [
    "print(new_authors)\n",
    "print(len(new_authors))"
   ]
  },
  {
   "cell_type": "code",
   "execution_count": 38,
   "metadata": {},
   "outputs": [
    {
     "name": "stdout",
     "output_type": "stream",
     "text": [
      "0.0 0.24561403508771928 0.1220472440944882 0.21164021164021163 0.18971061093247588 0.31438127090301005 0.2423580786026201 0.34986945169712796 0.4 0.4079601990049751 0.29307568438003223 0.3457792207792208 0.27264325323475047 "
     ]
    }
   ],
   "source": [
    "for i in range(0,len(old_authors)):\n",
    "    x=old_authors[i]/(old_authors[i]+new_authors[i])\n",
    "    print(x,end=\" \")"
   ]
  },
  {
   "cell_type": "code",
   "execution_count": 40,
   "metadata": {},
   "outputs": [
    {
     "name": "stdout",
     "output_type": "stream",
     "text": [
      "1.0 0.7543859649122807 0.8779527559055118 0.7883597883597884 0.8102893890675241 0.68561872909699 0.75764192139738 0.6501305483028721 0.6 0.5920398009950248 0.7069243156199678 0.6542207792207793 0.7273567467652495 "
     ]
    }
   ],
   "source": [
    "for i in range(0,len(old_authors)):\n",
    "    x=new_authors[i]/(old_authors[i]+new_authors[i])\n",
    "    print(x,end=\" \")"
   ]
  },
  {
   "cell_type": "markdown",
   "metadata": {},
   "source": [
    "# EMNLP authors"
   ]
  },
  {
   "cell_type": "code",
   "execution_count": 17,
   "metadata": {},
   "outputs": [],
   "source": [
    "y=[]\n",
    "auth=[]"
   ]
  },
  {
   "cell_type": "code",
   "execution_count": 18,
   "metadata": {},
   "outputs": [],
   "source": [
    "uni_authors={}\n",
    "cumulative_authors=[]"
   ]
  },
  {
   "cell_type": "code",
   "execution_count": 19,
   "metadata": {},
   "outputs": [],
   "source": [
    "for j in range(96,100):\n",
    "   \n",
    "    n1='emnlp/emnlp'+str(j)+'.txt'\n",
    "    f1=open(n1,errors='ignore')\n",
    "    soup1=BeautifulSoup(f1,'html.parser')\n",
    "    result1=soup1.find_all('author')\n",
    "    unique_name={}\n",
    "    authors=len(result1)\n",
    "    unique_authors={}\n",
    "    \n",
    "    for k in range(0,len(result1)):\n",
    "        fname=result1[k].firstname.text\n",
    "        sname=result1[k].secondname.text\n",
    "        uname=fname+sname\n",
    "        if uname in unique_authors:\n",
    "            a=unique_authors[uname]\n",
    "            a=a+1\n",
    "            unique_authors[uname]=a\n",
    "        else:\n",
    "            unique_authors[uname]=1\n",
    "        if uname in uni_authors:\n",
    "            a=uni_authors[uname]\n",
    "            a=a+1\n",
    "            uni_authors[uname]=a\n",
    "        else:\n",
    "            uni_authors[uname]=1\n",
    "    #print(authors,len(unique_authors))\n",
    "    uniauth= int(len(unique_authors))\n",
    "    #print(papersbyauthors)\n",
    "    cuni=int(len(uni_authors))\n",
    "    #print(papersbyauthors)\n",
    "    cumulative_authors.append(cuni)\n",
    "    auth.append(uniauth)\n",
    "    y.append(j)\n",
    "\n",
    "\n",
    "\n",
    "f1.close()"
   ]
  },
  {
   "cell_type": "code",
   "execution_count": 20,
   "metadata": {},
   "outputs": [],
   "source": [
    "for j in range(0,19):\n",
    "   \n",
    "    n1='emnlp/emnlp'+str(j)+'.txt'\n",
    "    f1=open(n1,errors='ignore')\n",
    "    soup1=BeautifulSoup(f1,'html.parser')\n",
    "    result1=soup1.find_all('author')\n",
    "    unique_name={}\n",
    "    authors=len(result1)\n",
    "    unique_authors={}\n",
    "    \n",
    "    for k in range(0,len(result1)):\n",
    "        fname=result1[k].firstname.text\n",
    "        sname=result1[k].secondname.text\n",
    "        uname=fname+sname\n",
    "        if uname in unique_authors:\n",
    "            a=unique_authors[uname]\n",
    "            a=a+1\n",
    "            unique_authors[uname]=a\n",
    "        else:\n",
    "            unique_authors[uname]=1\n",
    "        if uname in uni_authors:\n",
    "            a=uni_authors[uname]\n",
    "            a=a+1\n",
    "            uni_authors[uname]=a\n",
    "        else:\n",
    "            uni_authors[uname]=1\n",
    "    #print(authors,len(unique_authors))\n",
    "    uniauth= int(len(unique_authors))\n",
    "    #print(papersbyauthors)\n",
    "    cuni=int(len(uni_authors))\n",
    "    #print(papersbyauthors)\n",
    "    cumulative_authors.append(cuni)\n",
    "    auth.append(uniauth)\n",
    "    y.append(j)\n",
    "    \n",
    "f1.close()"
   ]
  },
  {
   "cell_type": "code",
   "execution_count": 21,
   "metadata": {},
   "outputs": [
    {
     "name": "stdout",
     "output_type": "stream",
     "text": [
      "[96, 97, 98, 99, 0, 1, 2, 3, 4, 5, 6, 7, 8, 9, 10, 11, 12, 13, 14, 15, 16, 17, 18]\n"
     ]
    }
   ],
   "source": [
    "print(y)"
   ]
  },
  {
   "cell_type": "code",
   "execution_count": 22,
   "metadata": {},
   "outputs": [
    {
     "name": "stdout",
     "output_type": "stream",
     "text": [
      "[24, 43, 28, 77, 57, 51, 85, 60, 124, 288, 187, 309, 264, 374, 336, 429, 379, 571, 642, 856, 795, 1010, 1815]\n"
     ]
    }
   ],
   "source": [
    "print(auth)"
   ]
  },
  {
   "cell_type": "code",
   "execution_count": 23,
   "metadata": {},
   "outputs": [
    {
     "name": "stdout",
     "output_type": "stream",
     "text": [
      "[24, 60, 85, 154, 204, 246, 307, 347, 468, 700, 833, 1048, 1212, 1426, 1613, 1855, 2050, 2388, 2752, 3277, 3738, 4347, 5534]\n"
     ]
    }
   ],
   "source": [
    "print(cumulative_authors)"
   ]
  },
  {
   "cell_type": "code",
   "execution_count": 24,
   "metadata": {},
   "outputs": [],
   "source": [
    "auth_added=[]\n",
    "auth_added.append(cumulative_authors[0])\n",
    "for i in range(1,len(cumulative_authors)):\n",
    "    x=cumulative_authors[i] - cumulative_authors[i-1]\n",
    "    auth_added.append(x)"
   ]
  },
  {
   "cell_type": "code",
   "execution_count": 25,
   "metadata": {},
   "outputs": [],
   "source": [
    "old_authors=[]\n",
    "for i in range(0,len(auth)):\n",
    "    x=auth[i] - auth_added[i]\n",
    "    old_authors.append(x)"
   ]
  },
  {
   "cell_type": "code",
   "execution_count": 26,
   "metadata": {},
   "outputs": [
    {
     "name": "stdout",
     "output_type": "stream",
     "text": [
      "[0, 7, 3, 8, 7, 9, 24, 20, 3, 56, 54, 94, 100, 160, 149, 187, 184, 233, 278, 331, 334, 401, 628]\n"
     ]
    }
   ],
   "source": [
    "print(old_authors)"
   ]
  },
  {
   "cell_type": "code",
   "execution_count": 27,
   "metadata": {},
   "outputs": [],
   "source": [
    "new_authors=[]\n",
    "for i in range(0,len(auth)):\n",
    "    x= auth[i] -old_authors[i]\n",
    "    new_authors.append(x)"
   ]
  },
  {
   "cell_type": "code",
   "execution_count": 28,
   "metadata": {},
   "outputs": [
    {
     "name": "stdout",
     "output_type": "stream",
     "text": [
      "[24, 36, 25, 69, 50, 42, 61, 40, 121, 232, 133, 215, 164, 214, 187, 242, 195, 338, 364, 525, 461, 609, 1187]\n",
      "23\n"
     ]
    }
   ],
   "source": [
    "print(new_authors)\n",
    "print(len(new_authors))"
   ]
  },
  {
   "cell_type": "code",
   "execution_count": 29,
   "metadata": {},
   "outputs": [
    {
     "name": "stdout",
     "output_type": "stream",
     "text": [
      "23\n"
     ]
    }
   ],
   "source": [
    "print(len(old_authors))"
   ]
  },
  {
   "cell_type": "code",
   "execution_count": 30,
   "metadata": {},
   "outputs": [
    {
     "name": "stdout",
     "output_type": "stream",
     "text": [
      "0.0 0.16279069767441862 0.10714285714285714 0.1038961038961039 0.12280701754385964 0.17647058823529413 0.2823529411764706 0.3333333333333333 0.024193548387096774 0.19444444444444445 0.2887700534759358 0.3042071197411003 0.3787878787878788 0.42780748663101603 0.44345238095238093 0.4358974358974359 0.48548812664907653 0.4080560420315236 0.43302180685358255 0.3866822429906542 0.42012578616352203 0.39702970297029705 0.34600550964187327 "
     ]
    }
   ],
   "source": [
    "for i in range(0,len(old_authors)):\n",
    "    x=old_authors[i]/(old_authors[i]+new_authors[i])\n",
    "    print(x,end=\" \")"
   ]
  },
  {
   "cell_type": "code",
   "execution_count": 31,
   "metadata": {},
   "outputs": [
    {
     "name": "stdout",
     "output_type": "stream",
     "text": [
      "1.0 0.8372093023255814 0.8928571428571429 0.8961038961038961 0.8771929824561403 0.8235294117647058 0.7176470588235294 0.6666666666666666 0.9758064516129032 0.8055555555555556 0.7112299465240641 0.6957928802588996 0.6212121212121212 0.5721925133689839 0.5565476190476191 0.5641025641025641 0.5145118733509235 0.5919439579684763 0.5669781931464174 0.6133177570093458 0.579874213836478 0.602970297029703 0.6539944903581267 "
     ]
    }
   ],
   "source": [
    "for i in range(0,len(old_authors)):\n",
    "    x=new_authors[i]/(old_authors[i]+new_authors[i])\n",
    "    print(x,end=\" \")"
   ]
  },
  {
   "cell_type": "code",
   "execution_count": null,
   "metadata": {},
   "outputs": [],
   "source": []
  }
 ],
 "metadata": {
  "kernelspec": {
   "display_name": "Python 3",
   "language": "python",
   "name": "python3"
  },
  "language_info": {
   "codemirror_mode": {
    "name": "ipython",
    "version": 3
   },
   "file_extension": ".py",
   "mimetype": "text/x-python",
   "name": "python",
   "nbconvert_exporter": "python",
   "pygments_lexer": "ipython3",
   "version": "3.7.2"
  }
 },
 "nbformat": 4,
 "nbformat_minor": 2
}
