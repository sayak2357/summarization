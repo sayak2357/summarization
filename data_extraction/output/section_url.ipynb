{
 "cells": [
  {
   "cell_type": "code",
   "execution_count": 24,
   "metadata": {},
   "outputs": [],
   "source": [
    "from bs4 import BeautifulSoup\n",
    "from urllib.parse import urlparse\n",
    "import operator\n",
    "import re"
   ]
  },
  {
   "cell_type": "code",
   "execution_count": 25,
   "metadata": {},
   "outputs": [],
   "source": [
    "sd={}\n",
    "with open(\"section.txt\") as file:\n",
    "        for line in file:\n",
    "            urls = re.findall('https?://(?:[-\\w.]|(?:%[\\da-fA-F]{2}))+', line)\n",
    "            if len(urls)>0:\n",
    "                dt=urls[0]\n",
    "                if dt in sd:\n",
    "                    sd[dt]+=1\n",
    "                else:\n",
    "                    sd[dt]=1"
   ]
  },
  {
   "cell_type": "markdown",
   "metadata": {},
   "source": [
    "# All the URLS found section_names.xml"
   ]
  },
  {
   "cell_type": "code",
   "execution_count": 26,
   "metadata": {},
   "outputs": [
    {
     "name": "stdout",
     "output_type": "stream",
     "text": [
      "http://www.clis.umd.edu\n",
      "http://www.emmtee.net\n",
      "http://www.statmt.org\n",
      "http://www.nist.gov\n",
      "http://www.cnts.ua.ac.be\n",
      "http://www.microsofttranslator.com\n",
      "http://crfpp.sourceforge.net\n",
      "http://statmt.org\n",
      "http://en.wikipedia.org\n",
      "http://wacky.\n",
      "http://iwslt2010.fbk.eu\n",
      "http://www.cafebabel.com\n",
      "http://www.loc.gov\n",
      "http://crfpp.\n",
      "http://www.ldc.upenn.edu\n",
      "https://github.com\n",
      "http://mallet.cs.umass.edu\n",
      "http://wikipedia.org\n",
      "http://www.cs.cmu.edu\n",
      "http://www.natcorp.ox.ac.uk\n",
      "http://reverb.cs.washington.edu.\n",
      "http://www.cplex.com\n",
      "http://www.sixbillionsecrets.com\n",
      "https://code.google.com\n",
      "http://www.csie.ntu.edu.tw\n",
      "http://rtw.ml.cmu.edu\n",
      "http://www.sogou.com\n",
      "http://nlp.stanford.edu\n",
      "http://brandsavant.com\n",
      "https://www.sogou.com\n",
      "https://pralav.github.io\n",
      "http://www.mturk.com\n",
      "http://aspell.net\n",
      "http://www.itl.nist.gov\n",
      "http://svmlight.joachims.org.\n",
      "http://logcom.oxfordjournals.org\n",
      "http://www.clsp.jhu.edu\n",
      "http://www.nlm.nih.gov\n",
      "http://www.cs.columbia.edu\n",
      "http://mathoverflow.net\n",
      "http://wold.clld.org\n",
      "http://perso.b2b2c.ca\n",
      "http://www.cs.toronto.edu\n",
      "http://opus.lingfil.uu.se\n",
      "http://groups.csail.mit.edu\n",
      "http://aclweb.org\n",
      "http://www.earthchem.org\n",
      "http://pdftohtml.sourceforge.net\n",
      "http://ilk.kub.nl\n",
      "http://www.people.cornell.edu\n",
      "http://cnts.uia.ac.be\n",
      "http://wn-\n",
      "http://www.sejong.or.kr\n",
      "http://lcl.uniroma1.it\n",
      "http://bach.arts.kuleuven.be\n",
      "http://www-\n",
      "http://www.psy.uwa.edu.au\n",
      "http://tripadvisor.com\n",
      "http://www.cs.ualberta.ca\n",
      "http://download.wikimedia.org\n",
      "http://www.jgrapht.org\n",
      "http://homepages.inf.ed.ac.\n",
      "http://www.isi.edu\n",
      "http://www.project-syndicate.org\n",
      "http://cl.naist.jp\n",
      "http://www.freebase.com\n",
      "http://www.ims.\n",
      "http://www.openfst.org.\n",
      "http://bllip.cs.brown.edu\n",
      "http://www.keenage.com.\n",
      "http://nlp.cs.berkeley.edu.\n",
      "http://sourceforge.net\n",
      "http://macys.com\n",
      "http://nlp.cs.berkeley.edu\n",
      "https://sites.google.com\n",
      "http://knowitall.github.io\n",
      "https://doi.org\n",
      "https://wordnet.princeton.edu\n",
      "http://www.cis.upenn.edu\n",
      "http://universaldependencies.org\n",
      "http://www.research.ibm.com\n"
     ]
    }
   ],
   "source": [
    "ct=0\n",
    "for x in sd:\n",
    "    print(x)\n",
    "    ct+=1"
   ]
  },
  {
   "cell_type": "markdown",
   "metadata": {},
   "source": [
    "# No. of URLs in section.xml is 81"
   ]
  },
  {
   "cell_type": "code",
   "execution_count": 27,
   "metadata": {},
   "outputs": [
    {
     "name": "stdout",
     "output_type": "stream",
     "text": [
      "81\n"
     ]
    }
   ],
   "source": [
    "print(ct)"
   ]
  }
 ],
 "metadata": {
  "kernelspec": {
   "display_name": "Python 3",
   "language": "python",
   "name": "python3"
  },
  "language_info": {
   "codemirror_mode": {
    "name": "ipython",
    "version": 3
   },
   "file_extension": ".py",
   "mimetype": "text/x-python",
   "name": "python",
   "nbconvert_exporter": "python",
   "pygments_lexer": "ipython3",
   "version": "3.7.2"
  }
 },
 "nbformat": 4,
 "nbformat_minor": 2
}
