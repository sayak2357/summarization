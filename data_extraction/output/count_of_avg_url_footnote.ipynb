{
 "cells": [
  {
   "cell_type": "markdown",
   "metadata": {},
   "source": [
    "# ACL"
   ]
  },
  {
   "cell_type": "code",
   "execution_count": 19,
   "metadata": {},
   "outputs": [],
   "source": [
    "from bs4 import BeautifulSoup\n",
    "from urllib.parse import urlparse\n",
    "import operator\n",
    "import re\n",
    "import glob"
   ]
  },
  {
   "cell_type": "code",
   "execution_count": 20,
   "metadata": {},
   "outputs": [],
   "source": [
    "\n",
    "#for name in glob.glob('output/P*footnote*'):\n",
    "    #print(name)\n",
    "dict1={}\n",
    "for i in range(0,19):\n",
    "    ct=0\n",
    "    if i<10:\n",
    "        n =str(\"output\")+str(\"/P\")+str(\"0\")+str(i)+str(\"*footnote.xml\") \n",
    "        \n",
    "    else:\n",
    "        n =str(\"output\")+str(\"/P\")+str(i)+str(\"*footnote.xml\")\n",
    "    #print(n)\n",
    "    for name in glob.glob(n):\n",
    "        ct+=1\n",
    "    dict1[i]=ct   \n",
    "\n",
    "for i in range(79,100):\n",
    "    ct=0\n",
    "    n =str(\"output\")+str(\"/P\")+str(i)+str(\"*footnote.xml\")\n",
    "    #print(n)\n",
    "    for name in glob.glob(n):\n",
    "        ct+=1\n",
    "    dict1[i]=ct \n",
    "        \n",
    "    "
   ]
  },
  {
   "cell_type": "markdown",
   "metadata": {},
   "source": [
    "# Total Papers per year of ACL"
   ]
  },
  {
   "cell_type": "code",
   "execution_count": 21,
   "metadata": {},
   "outputs": [
    {
     "name": "stdout",
     "output_type": "stream",
     "text": [
      "{0: 77, 1: 70, 2: 65, 3: 71, 4: 87, 5: 76, 6: 146, 7: 131, 8: 185, 9: 213, 10: 229, 11: 290, 12: 182, 13: 327, 14: 283, 15: 316, 16: 327, 17: 301, 18: 380, 79: 27, 80: 44, 81: 36, 82: 39, 83: 25, 84: 116, 85: 35, 86: 41, 87: 34, 88: 35, 89: 34, 90: 39, 91: 56, 92: 54, 93: 47, 94: 52, 95: 56, 96: 58, 97: 73, 98: 122, 99: 84}\n"
     ]
    }
   ],
   "source": [
    "print(dict1)"
   ]
  },
  {
   "cell_type": "code",
   "execution_count": 22,
   "metadata": {},
   "outputs": [],
   "source": [
    "dict2={}\n",
    "for i in range(0,19):\n",
    "    uct=0\n",
    "    if i<10:\n",
    "        n =str(\"output\")+str(\"/P\")+str(\"0\")+str(i)+str(\"*footnote.xml\") \n",
    "        \n",
    "    else:\n",
    "        n =str(\"output\")+str(\"/P\")+str(i)+str(\"*footnote.xml\")\n",
    "    #print(n)\n",
    "    for name in glob.glob(n):\n",
    "        with open(name) as file:\n",
    "            for line in file:\n",
    "                urls = re.findall('https?://(?:[-\\w.]|(?:%[\\da-fA-F]{2}))+', line)\n",
    "                if len(urls)>0:\n",
    "                    uct+=1\n",
    "    dict2[i]=uct\n",
    "\n",
    "for i in range(79,100):\n",
    "    uct=0\n",
    "    n =str(\"output\")+str(\"/P\")+str(i)+str(\"*footnote.xml\")\n",
    "    #print(n)\n",
    "    for name in glob.glob(n):\n",
    "        with open(name) as file:\n",
    "            for line in file:\n",
    "                urls = re.findall('https?://(?:[-\\w.]|(?:%[\\da-fA-F]{2}))+', line)\n",
    "                if len(urls)>0:\n",
    "                    uct+=1\n",
    "    dict2[i]=uct"
   ]
  },
  {
   "cell_type": "markdown",
   "metadata": {},
   "source": [
    "# Total URLs in Footnote of ACL"
   ]
  },
  {
   "cell_type": "code",
   "execution_count": 23,
   "metadata": {},
   "outputs": [
    {
     "name": "stdout",
     "output_type": "stream",
     "text": [
      "{0: 1, 1: 20, 2: 15, 3: 24, 4: 43, 5: 36, 6: 89, 7: 78, 8: 124, 9: 160, 10: 209, 11: 263, 12: 161, 13: 383, 14: 330, 15: 377, 16: 441, 17: 423, 18: 516, 79: 0, 80: 0, 81: 0, 82: 0, 83: 0, 84: 0, 85: 0, 86: 0, 87: 0, 88: 0, 89: 0, 90: 0, 91: 0, 92: 0, 93: 0, 94: 0, 95: 0, 96: 0, 97: 0, 98: 0, 99: 0}\n"
     ]
    }
   ],
   "source": [
    "print(dict2)"
   ]
  },
  {
   "cell_type": "code",
   "execution_count": 24,
   "metadata": {},
   "outputs": [],
   "source": [
    "avgurlinfootnote={}\n",
    "for j in range(0,19):\n",
    "        t=dict2[j]/dict1[j]\n",
    "        avgurlinfootnote[j] = t\n",
    "\n",
    "for j in range(79,100):\n",
    "        t=dict2[j]/dict1[j]\n",
    "        avgurlinfootnote[j] = t"
   ]
  },
  {
   "cell_type": "code",
   "execution_count": 25,
   "metadata": {},
   "outputs": [
    {
     "name": "stdout",
     "output_type": "stream",
     "text": [
      "{0: 0.012987012987012988, 1: 0.2857142857142857, 2: 0.23076923076923078, 3: 0.3380281690140845, 4: 0.4942528735632184, 5: 0.47368421052631576, 6: 0.6095890410958904, 7: 0.5954198473282443, 8: 0.6702702702702703, 9: 0.7511737089201878, 10: 0.9126637554585153, 11: 0.906896551724138, 12: 0.8846153846153846, 13: 1.1712538226299694, 14: 1.1660777385159011, 15: 1.1930379746835442, 16: 1.348623853211009, 17: 1.4053156146179402, 18: 1.3578947368421053, 79: 0.0, 80: 0.0, 81: 0.0, 82: 0.0, 83: 0.0, 84: 0.0, 85: 0.0, 86: 0.0, 87: 0.0, 88: 0.0, 89: 0.0, 90: 0.0, 91: 0.0, 92: 0.0, 93: 0.0, 94: 0.0, 95: 0.0, 96: 0.0, 97: 0.0, 98: 0.0, 99: 0.0}\n"
     ]
    }
   ],
   "source": [
    "print(avgurlinfootnote)"
   ]
  },
  {
   "cell_type": "code",
   "execution_count": 26,
   "metadata": {},
   "outputs": [
    {
     "data": {
      "image/png": "[encoded data removed]",
      "text/plain": [
       "<Figure size 640x480 with 1 Axes>"
      ]
     },
     "metadata": {},
     "output_type": "display_data"
    }
   ],
   "source": [
    "import matplotlib.pyplot as plt; plt.rcdefaults()\n",
    "import numpy as np\n",
    "import matplotlib.pyplot as plt\n",
    "\n",
    "objects = ('00', '01', '02', '03', '04', '05', '06', '07', '08', '09', '10', '11', '12', '13', '14','15','16','17','18')\n",
    "y_pos = np.arange(len(objects))\n",
    "performance = [0.012,0.285,0.230,0.338,0.494,0.473, 0.605,0.595,0.670,0.751,0.912,0.906,0.884,1.171,1.166,1.193,1.134,1.405,1.357]\n",
    "\n",
    "plt.bar(y_pos, performance, align='center', alpha=0.5)\n",
    "plt.xticks(y_pos, objects)\n",
    "plt.ylabel('Footnote urls per paper')\n",
    "plt.title('ACL Footnote urls varying over years')\n",
    "\n",
    "plt.show()"
   ]
  },
  {
   "cell_type": "markdown",
   "metadata": {},
   "source": [
    "# EMNLP"
   ]
  },
  {
   "cell_type": "code",
   "execution_count": 27,
   "metadata": {},
   "outputs": [],
   "source": [
    "dict1={}\n",
    "for i in range(0,19):\n",
    "    ct=0\n",
    "    if i<5:\n",
    "        n =str(\"output\")+str(\"/W\")+str(\"0\")+str(i)+str(\"*footnote.xml\") \n",
    "        \n",
    "    elif i>=5 and i<10:\n",
    "        n =str(\"output\")+str(\"/D0\")+str(i)+str(\"*footnote.xml\")\n",
    "    else:\n",
    "        n =str(\"output\")+str(\"/D\")+str(i)+str(\"*footnote.xml\")\n",
    "    #print(n)\n",
    "    for name in glob.glob(n):\n",
    "        ct+=1\n",
    "    dict1[i]=ct   \n",
    "\n",
    "for i in range(96,100):\n",
    "    ct=0\n",
    "    n =str(\"output\")+str(\"/W\")+str(i)+str(\"*footnote.xml\")\n",
    "    #print(n)\n",
    "    for name in glob.glob(n):\n",
    "        ct+=1\n",
    "    dict1[i]=ct "
   ]
  },
  {
   "cell_type": "markdown",
   "metadata": {},
   "source": [
    "# Total papers per year of EMNLP"
   ]
  },
  {
   "cell_type": "code",
   "execution_count": 28,
   "metadata": {},
   "outputs": [
    {
     "name": "stdout",
     "output_type": "stream",
     "text": [
      "{0: 28, 1: 21, 2: 41, 3: 27, 4: 23, 5: 126, 6: 73, 7: 131, 8: 113, 9: 163, 10: 123, 11: 146, 12: 139, 13: 205, 14: 226, 15: 311, 16: 263, 17: 323, 18: 548, 96: 14, 97: 23, 98: 13, 99: 35}\n"
     ]
    }
   ],
   "source": [
    "print(dict1)"
   ]
  },
  {
   "cell_type": "markdown",
   "metadata": {},
   "source": [
    "# Total URLs in Footnote of EMNLP"
   ]
  },
  {
   "cell_type": "code",
   "execution_count": 29,
   "metadata": {},
   "outputs": [],
   "source": [
    "dict2={}\n",
    "for i in range(0,19):\n",
    "    uct=0\n",
    "    if i<5:\n",
    "        n =str(\"output\")+str(\"/W\")+str(\"0\")+str(i)+str(\"*footnote.xml\") \n",
    "        \n",
    "    elif i>=5 and i<10:\n",
    "        n =str(\"output\")+str(\"/D0\")+str(i)+str(\"*footnote.xml\")\n",
    "    else:\n",
    "        n =str(\"output\")+str(\"/D\")+str(i)+str(\"*footnote.xml\")\n",
    "    #print(n)\n",
    "    for name in glob.glob(n):\n",
    "        with open(name) as file:\n",
    "            for line in file:\n",
    "                urls = re.findall('https?://(?:[-\\w.]|(?:%[\\da-fA-F]{2}))+', line)\n",
    "                if len(urls)>0:\n",
    "                    uct+=1\n",
    "    dict2[i]=uct\n",
    "\n",
    "for i in range(96,100):\n",
    "    uct=0\n",
    "    n =str(\"output\")+str(\"/W\")+str(i)+str(\"*footnote.xml\")\n",
    "    #print(n)\n",
    "    for name in glob.glob(n):\n",
    "        with open(name) as file:\n",
    "            for line in file:\n",
    "                urls = re.findall('https?://(?:[-\\w.]|(?:%[\\da-fA-F]{2}))+', line)\n",
    "                if len(urls)>0:\n",
    "                    uct+=1\n",
    "    dict2[i]=uct"
   ]
  },
  {
   "cell_type": "markdown",
   "metadata": {},
   "source": [
    "# Total URLs in Footnote of EMNLP"
   ]
  },
  {
   "cell_type": "code",
   "execution_count": 30,
   "metadata": {},
   "outputs": [
    {
     "name": "stdout",
     "output_type": "stream",
     "text": [
      "{0: 0, 1: 0, 2: 15, 3: 16, 4: 11, 5: 83, 6: 45, 7: 112, 8: 112, 9: 145, 10: 123, 11: 140, 12: 149, 13: 225, 14: 267, 15: 390, 16: 326, 17: 442, 18: 672, 96: 0, 97: 0, 98: 0, 99: 0}\n"
     ]
    }
   ],
   "source": [
    "print(dict2)"
   ]
  },
  {
   "cell_type": "code",
   "execution_count": 31,
   "metadata": {},
   "outputs": [],
   "source": [
    "avgurlinfootnote={}\n",
    "for j in range(0,19):\n",
    "        t=dict2[j]/dict1[j]\n",
    "        avgurlinfootnote[j] = t\n",
    "\n",
    "for j in range(96,100):\n",
    "        t=dict2[j]/dict1[j]\n",
    "        avgurlinfootnote[j] = t"
   ]
  },
  {
   "cell_type": "code",
   "execution_count": 32,
   "metadata": {},
   "outputs": [
    {
     "name": "stdout",
     "output_type": "stream",
     "text": [
      "{0: 0.0, 1: 0.0, 2: 0.36585365853658536, 3: 0.5925925925925926, 4: 0.4782608695652174, 5: 0.6587301587301587, 6: 0.6164383561643836, 7: 0.8549618320610687, 8: 0.9911504424778761, 9: 0.8895705521472392, 10: 1.0, 11: 0.958904109589041, 12: 1.0719424460431655, 13: 1.0975609756097562, 14: 1.1814159292035398, 15: 1.2540192926045015, 16: 1.2395437262357414, 17: 1.368421052631579, 18: 1.2262773722627738, 96: 0.0, 97: 0.0, 98: 0.0, 99: 0.0}\n"
     ]
    }
   ],
   "source": [
    "print(avgurlinfootnote)"
   ]
  },
  {
   "cell_type": "code",
   "execution_count": 43,
   "metadata": {
    "scrolled": true
   },
   "outputs": [
    {
     "data": {
      "image/png": "[encoded data removed]",
      "text/plain": [
       "<Figure size 640x480 with 1 Axes>"
      ]
     },
     "metadata": {},
     "output_type": "display_data"
    }
   ],
   "source": [
    "import matplotlib.pyplot as plt; plt.rcdefaults()\n",
    "import numpy as np\n",
    "import matplotlib.pyplot as plt\n",
    "\n",
    "objects = ('96','97','98','99','00', '01', '02', '03', '04', '05', '06', '07', '08', '09', '10', '11', '12', '13', '14','15','16','17','18')\n",
    "y_pos = np.arange(len(objects))\n",
    "performance = [0,0,0,0,0,0.0,0.365,0.59,0.478,0.65,0.616, 0.854,0.991,0.889,1.0,0.95,1.07,1.097,1.181,1.254,1.123,1.368,1.22]\n",
    "\n",
    "plt.bar(y_pos, performance, align='center', alpha=0.5)\n",
    "plt.xticks(y_pos, objects)\n",
    "plt.ylabel('Footnote urls per paper')\n",
    "plt.title('EMNLP Footnote urls varying over years')\n",
    "\n",
    "plt.show()"
   ]
  },
  {
   "cell_type": "markdown",
   "metadata": {},
   "source": [
    "# NAACL"
   ]
  },
  {
   "cell_type": "code",
   "execution_count": 35,
   "metadata": {},
   "outputs": [],
   "source": [
    "dict1={}\n",
    "for i in range(0,19):\n",
    "    ct=0\n",
    "    if i==0:\n",
    "        n =str(\"output\")+str(\"/A\")+str(\"0\")+str(i)+str(\"*footnote.xml\") \n",
    "    elif i<10:\n",
    "            n =str(\"output\")+str(\"/N0\")+str(i)+str(\"*footnote.xml\")\n",
    "    else:\n",
    "        n =str(\"output\")+str(\"/N\")+str(i)+str(\"*footnote.xml\")\n",
    "    #print(n)\n",
    "    for name in glob.glob(n):\n",
    "        ct+=1\n",
    "    dict1[i]=ct   "
   ]
  },
  {
   "cell_type": "markdown",
   "metadata": {},
   "source": [
    "# Total Papers per Year"
   ]
  },
  {
   "cell_type": "code",
   "execution_count": 36,
   "metadata": {},
   "outputs": [
    {
     "name": "stdout",
     "output_type": "stream",
     "text": [
      "{0: 89, 1: 30, 2: 0, 3: 72, 4: 42, 5: 0, 6: 62, 7: 71, 8: 0, 9: 75, 10: 145, 11: 0, 12: 97, 13: 139, 14: 0, 15: 184, 16: 179, 17: 0, 18: 324}\n"
     ]
    }
   ],
   "source": [
    "print(dict1)"
   ]
  },
  {
   "cell_type": "code",
   "execution_count": 37,
   "metadata": {},
   "outputs": [],
   "source": [
    "dict2={}\n",
    "for i in range(0,19):\n",
    "    uct=0\n",
    "    if i==0:\n",
    "        n =str(\"output\")+str(\"/A\")+str(\"0\")+str(i)+str(\"*footnote.xml\")\n",
    "    elif i<10:\n",
    "        n =str(\"output\")+str(\"/N\")+str(\"0\")+str(i)+str(\"*footnote.xml\") \n",
    "        \n",
    "    else:\n",
    "        n =str(\"output\")+str(\"/N\")+str(i)+str(\"*footnote.xml\")\n",
    "    #print(n)\n",
    "    for name in glob.glob(n):\n",
    "        with open(name) as file:\n",
    "            for line in file:\n",
    "                urls = re.findall('https?://(?:[-\\w.]|(?:%[\\da-fA-F]{2}))+', line)\n",
    "                if len(urls)>0:\n",
    "                    uct+=1\n",
    "    dict2[i]=uct"
   ]
  },
  {
   "cell_type": "markdown",
   "metadata": {},
   "source": [
    "# Total URLs in Footnote of NAACL"
   ]
  },
  {
   "cell_type": "code",
   "execution_count": 38,
   "metadata": {},
   "outputs": [
    {
     "name": "stdout",
     "output_type": "stream",
     "text": [
      "{0: 0, 1: 2, 2: 0, 3: 7, 4: 14, 5: 0, 6: 33, 7: 43, 8: 0, 9: 57, 10: 111, 11: 0, 12: 73, 13: 150, 14: 0, 15: 220, 16: 219, 17: 0, 18: 478}\n"
     ]
    }
   ],
   "source": [
    "print(dict2)"
   ]
  },
  {
   "cell_type": "code",
   "execution_count": 41,
   "metadata": {},
   "outputs": [],
   "source": [
    "avgurlinfootnote={}\n",
    "for j in range(0,19):\n",
    "        if dict1[j]==0:\n",
    "            t=0\n",
    "        else:\n",
    "            t=dict2[j]/dict1[j]\n",
    "            avgurlinfootnote[j] = t"
   ]
  },
  {
   "cell_type": "code",
   "execution_count": 42,
   "metadata": {},
   "outputs": [
    {
     "name": "stdout",
     "output_type": "stream",
     "text": [
      "{0: 0.0, 1: 0.06666666666666667, 3: 0.09722222222222222, 4: 0.3333333333333333, 6: 0.532258064516129, 7: 0.6056338028169014, 9: 0.76, 10: 0.7655172413793103, 12: 0.7525773195876289, 13: 1.079136690647482, 15: 1.1956521739130435, 16: 1.223463687150838, 18: 1.4753086419753085}\n"
     ]
    }
   ],
   "source": [
    "print(avgurlinfootnote)"
   ]
  },
  {
   "cell_type": "code",
   "execution_count": 45,
   "metadata": {},
   "outputs": [
    {
     "data": {
      "image/png": "[encoded data removed]",
      "text/plain": [
       "<Figure size 640x480 with 1 Axes>"
      ]
     },
     "metadata": {},
     "output_type": "display_data"
    }
   ],
   "source": [
    "import matplotlib.pyplot as plt; plt.rcdefaults()\n",
    "import numpy as np\n",
    "import matplotlib.pyplot as plt\n",
    "\n",
    "objects = ('00', '01', '03', '04', '06', '07', '09', '10', '12', '13', '15','16','18')\n",
    "y_pos = np.arange(len(objects))\n",
    "performance = [0.0,0.066,0.097,0.33,0.532,0.605,0.76,0.765,0.75,1.07,1.195,1.223,1.475]\n",
    "\n",
    "plt.bar(y_pos, performance, align='center', alpha=0.5)\n",
    "plt.xticks(y_pos, objects)\n",
    "plt.ylabel('Footnote urls per paper')\n",
    "plt.title('NAACL Footnote urls varying over years')\n",
    "\n",
    "plt.show()"
   ]
  },
  {
   "cell_type": "code",
   "execution_count": null,
   "metadata": {},
   "outputs": [],
   "source": []
  }
 ],
 "metadata": {
  "kernelspec": {
   "display_name": "Python 3",
   "language": "python",
   "name": "python3"
  },
  "language_info": {
   "codemirror_mode": {
    "name": "ipython",
    "version": 3
   },
   "file_extension": ".py",
   "mimetype": "text/x-python",
   "name": "python",
   "nbconvert_exporter": "python",
   "pygments_lexer": "ipython3",
   "version": "3.7.2"
  }
 },
 "nbformat": 4,
 "nbformat_minor": 2
}
