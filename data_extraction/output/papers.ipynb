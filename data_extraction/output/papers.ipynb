{
 "cells": [
  {
   "cell_type": "code",
   "execution_count": 23,
   "metadata": {},
   "outputs": [],
   "source": [
    "from bs4 import BeautifulSoup"
   ]
  },
  {
   "cell_type": "markdown",
   "metadata": {},
   "source": [
    "# ACL Papers"
   ]
  },
  {
   "cell_type": "code",
   "execution_count": 28,
   "metadata": {},
   "outputs": [],
   "source": [
    "y1={}\n",
    "d={}\n",
    "l={}\n",
    "s={}\n",
    "for i in range(0,19):\n",
    "    n1='acl/acl'+str(i)+'.txt'\n",
    "    f1=open(n1,errors='ignore')\n",
    "    l1=0\n",
    "    s1=0\n",
    "    d1=0\n",
    "    soup1=BeautifulSoup(f1,'html.parser')\n",
    "    result1=soup1.find_all('type')\n",
    "    for k in range(0,len(result1)):\n",
    "        if result1[k].text=='long':\n",
    "            l1+=1\n",
    "        elif result1[k].text=='short':\n",
    "            s1+=1\n",
    "        else:\n",
    "            d1+=1\n",
    "    d[i]=d1\n",
    "    l[i]=l1\n",
    "    s[i]=s1\n",
    "    \n",
    "   "
   ]
  },
  {
   "cell_type": "code",
   "execution_count": 25,
   "metadata": {},
   "outputs": [
    {
     "name": "stdout",
     "output_type": "stream",
     "text": [
      "{0: 79, 1: 70, 2: 65, 3: 71, 4: 88, 5: 77, 6: 147, 7: 131, 8: 119, 9: 121, 10: 160, 11: 164, 12: 111, 13: 174, 14: 147, 15: 174, 16: 231, 17: 195, 18: 256}\n"
     ]
    }
   ],
   "source": [
    "print(l)"
   ]
  },
  {
   "cell_type": "code",
   "execution_count": 26,
   "metadata": {},
   "outputs": [
    {
     "name": "stdout",
     "output_type": "stream",
     "text": [
      "{0: 0, 1: 0, 2: 0, 3: 0, 4: 0, 5: 0, 6: 0, 7: 0, 8: 68, 9: 93, 10: 70, 11: 128, 12: 76, 13: 154, 14: 139, 15: 144, 16: 97, 17: 107, 18: 125}\n"
     ]
    }
   ],
   "source": [
    "print(s)"
   ]
  },
  {
   "cell_type": "code",
   "execution_count": 27,
   "metadata": {},
   "outputs": [
    {
     "name": "stdout",
     "output_type": "stream",
     "text": [
      "{0: 0, 1: 0, 2: 0, 3: 0, 4: 34, 5: 32, 6: 0, 7: 58, 8: 10, 9: 12, 10: 15, 11: 25, 12: 30, 13: 35, 14: 22, 15: 26, 16: 29, 17: 22, 18: 25}\n"
     ]
    }
   ],
   "source": [
    "print(d)"
   ]
  },
  {
   "cell_type": "markdown",
   "metadata": {},
   "source": [
    "# EMNLP papers"
   ]
  },
  {
   "cell_type": "code",
   "execution_count": 29,
   "metadata": {},
   "outputs": [],
   "source": [
    "y1={}\n",
    "d={}\n",
    "l={}\n",
    "s={}\n",
    "for i in range(0,19):\n",
    "    n1='emnlp/emnlp'+str(i)+'.txt'\n",
    "    f1=open(n1,errors='ignore')\n",
    "    l1=0\n",
    "    s1=0\n",
    "    d1=0\n",
    "    soup1=BeautifulSoup(f1,'html.parser')\n",
    "    result1=soup1.find_all('type')\n",
    "    for k in range(0,len(result1)):\n",
    "        if result1[k].text=='long':\n",
    "            l1+=1\n",
    "        elif result1[k].text=='short':\n",
    "            s1+=1\n",
    "        else:\n",
    "            d1+=1\n",
    "    d[i]=d1\n",
    "    l[i]=l1\n",
    "    s[i]=s1"
   ]
  },
  {
   "cell_type": "code",
   "execution_count": 30,
   "metadata": {},
   "outputs": [
    {
     "name": "stdout",
     "output_type": "stream",
     "text": [
      "{0: 0, 1: 0, 2: 0, 3: 0, 4: 0, 5: 0, 6: 0, 7: 0, 8: 0, 9: 0, 10: 0, 11: 0, 12: 0, 13: 0, 14: 0, 15: 0, 16: 0, 17: 0, 18: 0}\n"
     ]
    }
   ],
   "source": [
    "print(s)"
   ]
  },
  {
   "cell_type": "code",
   "execution_count": 31,
   "metadata": {},
   "outputs": [
    {
     "name": "stdout",
     "output_type": "stream",
     "text": [
      "{0: 27, 1: 21, 2: 41, 3: 28, 4: 56, 5: 127, 6: 73, 7: 131, 8: 114, 9: 163, 10: 125, 11: 149, 12: 139, 13: 205, 14: 226, 15: 312, 16: 264, 17: 323, 18: 549}\n"
     ]
    }
   ],
   "source": [
    "print(l)"
   ]
  },
  {
   "cell_type": "code",
   "execution_count": 32,
   "metadata": {},
   "outputs": [
    {
     "name": "stdout",
     "output_type": "stream",
     "text": [
      "{0: 0, 1: 0, 2: 0, 3: 0, 4: 0, 5: 0, 6: 0, 7: 0, 8: 0, 9: 0, 10: 0, 11: 0, 12: 0, 13: 0, 14: 0, 15: 0, 16: 0, 17: 22, 18: 30}\n"
     ]
    }
   ],
   "source": [
    "print(d)"
   ]
  },
  {
   "cell_type": "code",
   "execution_count": 42,
   "metadata": {},
   "outputs": [],
   "source": [
    "y1={}\n",
    "d={}\n",
    "l={}\n",
    "s={}\n",
    "for i in range(96,100):\n",
    "    n1='emnlp/emnlp'+str(i)+'.txt'\n",
    "    f1=open(n1,errors='ignore')\n",
    "    l1=0\n",
    "    s1=0\n",
    "    d1=0\n",
    "    soup1=BeautifulSoup(f1,'html.parser')\n",
    "    result1=soup1.find_all('type')\n",
    "    for k in range(0,len(result1)):\n",
    "        if result1[k].text=='long':\n",
    "            l1+=1\n",
    "        elif result1[k].text=='short':\n",
    "            s1+=1\n",
    "        else:\n",
    "            d1+=1\n",
    "    d[i]=d1\n",
    "    l[i]=l1\n",
    "    s[i]=s1"
   ]
  },
  {
   "cell_type": "code",
   "execution_count": 43,
   "metadata": {},
   "outputs": [
    {
     "name": "stdout",
     "output_type": "stream",
     "text": [
      "{96: 14, 97: 23, 98: 12, 99: 35}\n",
      "{96: 0, 97: 0, 98: 0, 99: 0}\n",
      "{96: 0, 97: 0, 98: 0, 99: 0}\n"
     ]
    }
   ],
   "source": [
    "print(l)\n",
    "print(s)\n",
    "print(d)"
   ]
  },
  {
   "cell_type": "markdown",
   "metadata": {},
   "source": [
    "# NAACL papers"
   ]
  },
  {
   "cell_type": "code",
   "execution_count": 38,
   "metadata": {},
   "outputs": [],
   "source": [
    "y1={}\n",
    "d={}\n",
    "l={}\n",
    "s={}\n",
    "for i in range(0,19):\n",
    "    n1='naacl/naacl'+str(i)+'.txt'\n",
    "    try:\n",
    "        f1=open(n1,errors='ignore')\n",
    "    except:\n",
    "        continue\n",
    "    l1=0\n",
    "    s1=0\n",
    "    d1=0\n",
    "    soup1=BeautifulSoup(f1,'html.parser')\n",
    "    result1=soup1.find_all('type')\n",
    "    for k in range(0,len(result1)):\n",
    "        if result1[k].text=='long':\n",
    "            l1+=1\n",
    "        elif result1[k].text=='short':\n",
    "            s1+=1\n",
    "        else:\n",
    "            d1+=1\n",
    "    d[i]=d1\n",
    "    l[i]=l1\n",
    "    s[i]=s1"
   ]
  },
  {
   "cell_type": "code",
   "execution_count": 39,
   "metadata": {},
   "outputs": [
    {
     "name": "stdout",
     "output_type": "stream",
     "text": [
      "{0: 43, 1: 0, 3: 38, 4: 0, 6: 51, 7: 55, 9: 72, 10: 0, 12: 0, 13: 0, 15: 0, 16: 0, 18: 125}\n"
     ]
    }
   ],
   "source": [
    "print(s)"
   ]
  },
  {
   "cell_type": "code",
   "execution_count": 40,
   "metadata": {},
   "outputs": [
    {
     "name": "stdout",
     "output_type": "stream",
     "text": [
      "{0: 0, 1: 0, 3: 18, 4: 13, 6: 12, 7: 0, 9: 6, 10: 13, 12: 10, 13: 10, 15: 25, 16: 21, 18: 21}\n"
     ]
    }
   ],
   "source": [
    "print(d)"
   ]
  },
  {
   "cell_type": "code",
   "execution_count": 41,
   "metadata": {},
   "outputs": [
    {
     "name": "stdout",
     "output_type": "stream",
     "text": [
      "{0: 46, 1: 31, 3: 37, 4: 43, 6: 62, 7: 72, 9: 75, 10: 146, 12: 97, 13: 140, 15: 186, 16: 181, 18: 205}\n"
     ]
    }
   ],
   "source": [
    "print(l)"
   ]
  },
  {
   "cell_type": "code",
   "execution_count": null,
   "metadata": {},
   "outputs": [],
   "source": []
  }
 ],
 "metadata": {
  "kernelspec": {
   "display_name": "Python 3",
   "language": "python",
   "name": "python3"
  },
  "language_info": {
   "codemirror_mode": {
    "name": "ipython",
    "version": 3
   },
   "file_extension": ".py",
   "mimetype": "text/x-python",
   "name": "python",
   "nbconvert_exporter": "python",
   "pygments_lexer": "ipython3",
   "version": "3.7.2"
  }
 },
 "nbformat": 4,
 "nbformat_minor": 2
}
