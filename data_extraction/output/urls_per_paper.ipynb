{
 "cells": [
  {
   "cell_type": "code",
   "execution_count": 26,
   "metadata": {},
   "outputs": [],
   "source": [
    "from bs4 import BeautifulSoup\n",
    "from urllib.parse import urlparse\n",
    "import operator\n",
    "import re\n",
    "import glob"
   ]
  },
  {
   "cell_type": "markdown",
   "metadata": {},
   "source": [
    "# ACL urls"
   ]
  },
  {
   "cell_type": "code",
   "execution_count": 27,
   "metadata": {},
   "outputs": [],
   "source": [
    "urldict={}\n",
    "paperdict={}\n",
    "for i in range(79,100):\n",
    "    n =str(\"output\")+str(\"/P\")+str(i)+str(\"*url.xml\")\n",
    "    #print(n)\n",
    "    ct=0\n",
    "    c=0\n",
    "    for name in glob.glob(n):\n",
    "        with open(name) as file:\n",
    "            ct+=1\n",
    "            soup1=BeautifulSoup(file,'html.parser')\n",
    "            result1=soup1.find_all('url')\n",
    "            for k in range(0,len(result1)):\n",
    "                unurl=result1[k].text\n",
    "                data = urlparse(unurl)\n",
    "                murl=data.netloc\n",
    "                if len(murl)>7:\n",
    "                    c+=1\n",
    "    paperdict[i]=ct\n",
    "    urldict[i]=c"
   ]
  },
  {
   "cell_type": "code",
   "execution_count": 28,
   "metadata": {},
   "outputs": [
    {
     "name": "stdout",
     "output_type": "stream",
     "text": [
      "{79: 27, 80: 44, 81: 36, 82: 39, 83: 25, 84: 116, 85: 35, 86: 41, 87: 34, 88: 35, 89: 34, 90: 39, 91: 56, 92: 54, 93: 47, 94: 52, 95: 56, 96: 58, 97: 73, 98: 122, 99: 84}\n",
      "{79: 0, 80: 0, 81: 0, 82: 0, 83: 0, 84: 0, 85: 0, 86: 0, 87: 0, 88: 0, 89: 0, 90: 0, 91: 0, 92: 0, 93: 0, 94: 0, 95: 0, 96: 3, 97: 11, 98: 38, 99: 22}\n"
     ]
    }
   ],
   "source": [
    "print(paperdict)\n",
    "print(urldict)"
   ]
  },
  {
   "cell_type": "code",
   "execution_count": 29,
   "metadata": {},
   "outputs": [],
   "source": [
    "for i in range(0,19):\n",
    "    if i<10:\n",
    "        n =str(\"output\")+str(\"/P0\")+str(i)+str(\"*url.xml\")\n",
    "    else:\n",
    "        n =str(\"output\")+str(\"/P\")+str(i)+str(\"*url.xml\")\n",
    "    #print(n)\n",
    "    ct=0\n",
    "    c=0\n",
    "    for name in glob.glob(n):\n",
    "        with open(name) as file:\n",
    "            ct+=1\n",
    "            soup1=BeautifulSoup(file,'html.parser')\n",
    "            result1=soup1.find_all('url')\n",
    "            for k in range(0,len(result1)):\n",
    "                unurl=result1[k].text\n",
    "                data = urlparse(unurl)\n",
    "                murl=data.netloc\n",
    "                if len(murl)>6:\n",
    "                    c+=1\n",
    "    paperdict[i]=ct\n",
    "    urldict[i]=c"
   ]
  },
  {
   "cell_type": "code",
   "execution_count": 30,
   "metadata": {},
   "outputs": [
    {
     "name": "stdout",
     "output_type": "stream",
     "text": [
      "{79: 27, 80: 44, 81: 36, 82: 39, 83: 25, 84: 116, 85: 35, 86: 41, 87: 34, 88: 35, 89: 34, 90: 39, 91: 56, 92: 54, 93: 47, 94: 52, 95: 56, 96: 58, 97: 73, 98: 122, 99: 84, 0: 77, 1: 70, 2: 65, 3: 71, 4: 122, 5: 108, 6: 146, 7: 189, 8: 196, 9: 224, 10: 244, 11: 315, 12: 211, 13: 360, 14: 305, 15: 341, 16: 356, 17: 323, 18: 405}\n"
     ]
    }
   ],
   "source": [
    "print(paperdict)\n"
   ]
  },
  {
   "cell_type": "code",
   "execution_count": 31,
   "metadata": {},
   "outputs": [
    {
     "name": "stdout",
     "output_type": "stream",
     "text": [
      "{79: 0, 80: 0, 81: 0, 82: 0, 83: 0, 84: 0, 85: 0, 86: 0, 87: 0, 88: 0, 89: 0, 90: 0, 91: 0, 92: 0, 93: 0, 94: 0, 95: 0, 96: 3, 97: 11, 98: 38, 99: 22, 0: 24, 1: 66, 2: 44, 3: 60, 4: 140, 5: 119, 6: 174, 7: 222, 8: 236, 9: 339, 10: 415, 11: 509, 12: 368, 13: 746, 14: 715, 15: 760, 16: 858, 17: 3746, 18: 1807}\n"
     ]
    }
   ],
   "source": [
    "print(urldict)"
   ]
  },
  {
   "cell_type": "code",
   "execution_count": 34,
   "metadata": {},
   "outputs": [
    {
     "name": "stdout",
     "output_type": "stream",
     "text": [
      "0.0, 0.0, 0.0, 0.0, 0.0, 0.0, 0.0, 0.0, 0.0, 0.0, 0.0, 0.0, 0.0, 0.0, 0.0, 0.0, 0.0, 0.05172413793103448, 0.1506849315068493, 0.3114754098360656, 0.2619047619047619, "
     ]
    }
   ],
   "source": [
    "for i in range(79,100):\n",
    "    x=urldict[i]/paperdict[i]\n",
    "    print(x,end=\", \")"
   ]
  },
  {
   "cell_type": "code",
   "execution_count": 35,
   "metadata": {},
   "outputs": [
    {
     "name": "stdout",
     "output_type": "stream",
     "text": [
      "0.3116883116883117, 0.9428571428571428, 0.676923076923077, 0.8450704225352113, 1.1475409836065573, 1.1018518518518519, 1.1917808219178083, 1.1746031746031746, 1.2040816326530612, 1.5133928571428572, 1.7008196721311475, 1.615873015873016, 1.7440758293838863, 2.0722222222222224, 2.3442622950819674, 2.228739002932551, 2.4101123595505616, 11.597523219814242, 4.461728395061728, "
     ]
    }
   ],
   "source": [
    "for i in range(0,19):\n",
    "    x=urldict[i]/paperdict[i]\n",
    "    print(x,end=\", \")"
   ]
  },
  {
   "cell_type": "markdown",
   "metadata": {},
   "source": [
    "# NAACL urls"
   ]
  },
  {
   "cell_type": "code",
   "execution_count": 40,
   "metadata": {},
   "outputs": [],
   "source": [
    "urldict={}\n",
    "paperdict={}\n",
    "for i in range(0,19):\n",
    "    if i==0:\n",
    "        n =str(\"output\")+str(\"/A0\")+str(i)+str(\"*url.xml\")\n",
    "    elif i>0 and i<10:\n",
    "        n =str(\"output\")+str(\"/N0\")+str(i)+str(\"*url.xml\")\n",
    "    else:\n",
    "        n =str(\"output\")+str(\"/N\")+str(i)+str(\"*url.xml\")\n",
    "    #print(n)\n",
    "    ct=0\n",
    "    c=0\n",
    "    for name in glob.glob(n):\n",
    "        with open(name) as file:\n",
    "            ct+=1\n",
    "            soup1=BeautifulSoup(file,'html.parser')\n",
    "            result1=soup1.find_all('url')\n",
    "            for k in range(0,len(result1)):\n",
    "                unurl=result1[k].text\n",
    "                try:\n",
    "                    data = urlparse(unurl)\n",
    "                except:\n",
    "                    continue\n",
    "                murl=data.netloc\n",
    "                if len(murl)>7:\n",
    "                    c+=1\n",
    "    paperdict[i]=ct\n",
    "    urldict[i]=c"
   ]
  },
  {
   "cell_type": "code",
   "execution_count": 41,
   "metadata": {},
   "outputs": [
    {
     "name": "stdout",
     "output_type": "stream",
     "text": [
      "{0: 89, 1: 29, 2: 0, 3: 90, 4: 96, 5: 0, 6: 126, 7: 127, 8: 0, 9: 153, 10: 155, 11: 0, 12: 97, 13: 149, 14: 0, 15: 209, 16: 200, 17: 0, 18: 324}\n"
     ]
    }
   ],
   "source": [
    "print(paperdict)"
   ]
  },
  {
   "cell_type": "code",
   "execution_count": 42,
   "metadata": {},
   "outputs": [
    {
     "name": "stdout",
     "output_type": "stream",
     "text": [
      "{0: 36, 1: 8, 2: 0, 3: 48, 4: 84, 5: 0, 6: 174, 7: 123, 8: 0, 9: 164, 10: 215, 11: 0, 12: 142, 13: 281, 14: 0, 15: 487, 16: 398, 17: 0, 18: 1645}\n"
     ]
    }
   ],
   "source": [
    "print(urldict)"
   ]
  },
  {
   "cell_type": "code",
   "execution_count": 43,
   "metadata": {},
   "outputs": [
    {
     "name": "stdout",
     "output_type": "stream",
     "text": [
      "0.4044943820224719, 0.27586206896551724, 0,0.5333333333333333, 0.875, 0,1.380952380952381, 0.968503937007874, 0,1.0718954248366013, 1.3870967741935485, 0,1.4639175257731958, 1.8859060402684564, 0,2.3301435406698565, 1.99, 0,5.077160493827161, "
     ]
    }
   ],
   "source": [
    "for i in range(0,19):\n",
    "    if paperdict[i]==0:\n",
    "        x=0\n",
    "        print(x,end=\",\")\n",
    "    else:\n",
    "        x=urldict[i]/paperdict[i]\n",
    "        print(x,end=\", \")"
   ]
  },
  {
   "cell_type": "markdown",
   "metadata": {},
   "source": [
    "# EMNLP urls"
   ]
  },
  {
   "cell_type": "code",
   "execution_count": 44,
   "metadata": {},
   "outputs": [],
   "source": [
    "urldict={}\n",
    "paperdict={}\n",
    "for i in range(96,100):\n",
    "    n =str(\"output\")+str(\"/W\")+str(i)+str(\"*url.xml\")\n",
    "    #print(n)\n",
    "    ct=0\n",
    "    c=0\n",
    "    for name in glob.glob(n):\n",
    "        with open(name) as file:\n",
    "            ct+=1\n",
    "            soup1=BeautifulSoup(file,'html.parser')\n",
    "            result1=soup1.find_all('url')\n",
    "            for k in range(0,len(result1)):\n",
    "                unurl=result1[k].text\n",
    "                try:\n",
    "                    data = urlparse(unurl)\n",
    "                except:\n",
    "                    continue\n",
    "                murl=data.netloc\n",
    "                if len(murl)>7:\n",
    "                    c+=1\n",
    "    paperdict[i]=ct\n",
    "    urldict[i]=c\n",
    "for i in range(0,19):\n",
    "    if i<5:\n",
    "        n =str(\"output\")+str(\"/W0\")+str(i)+str(\"*url.xml\")\n",
    "    elif i>=5 and i<10:\n",
    "        n =str(\"output\")+str(\"/D0\")+str(i)+str(\"*url.xml\")\n",
    "    else:\n",
    "        n =str(\"output\")+str(\"/D\")+str(i)+str(\"*url.xml\")\n",
    "    #print(n)\n",
    "    ct=0\n",
    "    c=0\n",
    "    for name in glob.glob(n):\n",
    "        with open(name) as file:\n",
    "            ct+=1\n",
    "            soup1=BeautifulSoup(file,'html.parser')\n",
    "            result1=soup1.find_all('url')\n",
    "            for k in range(0,len(result1)):\n",
    "                unurl=result1[k].text\n",
    "                try:\n",
    "                    data = urlparse(unurl)\n",
    "                except:\n",
    "                    continue\n",
    "                murl=data.netloc\n",
    "                if len(murl)>7:\n",
    "                    c+=1\n",
    "    paperdict[i]=ct\n",
    "    urldict[i]=c"
   ]
  },
  {
   "cell_type": "code",
   "execution_count": 45,
   "metadata": {},
   "outputs": [
    {
     "name": "stdout",
     "output_type": "stream",
     "text": [
      "{96: 14, 97: 23, 98: 13, 99: 35, 0: 28, 1: 21, 2: 41, 3: 27, 4: 23, 5: 126, 6: 73, 7: 131, 8: 113, 9: 163, 10: 123, 11: 146, 12: 139, 13: 204, 14: 226, 15: 311, 16: 263, 17: 344, 18: 578}\n"
     ]
    }
   ],
   "source": [
    "print(paperdict)"
   ]
  },
  {
   "cell_type": "code",
   "execution_count": 46,
   "metadata": {},
   "outputs": [
    {
     "name": "stdout",
     "output_type": "stream",
     "text": [
      "{96: 2, 97: 1, 98: 0, 99: 10, 0: 9, 1: 7, 2: 22, 3: 29, 4: 27, 5: 170, 6: 96, 7: 224, 8: 190, 9: 243, 10: 206, 11: 236, 12: 255, 13: 389, 14: 445, 15: 669, 16: 556, 17: 1043, 18: 1239}\n"
     ]
    }
   ],
   "source": [
    "print(urldict)"
   ]
  },
  {
   "cell_type": "code",
   "execution_count": 48,
   "metadata": {},
   "outputs": [
    {
     "name": "stdout",
     "output_type": "stream",
     "text": [
      "0.14285714285714285, 0.043478260869565216, 0.0, 0.2857142857142857, "
     ]
    }
   ],
   "source": [
    "for i in range(96,100):\n",
    "    x=urldict[i]/paperdict[i]\n",
    "    print(x,end=\", \")"
   ]
  },
  {
   "cell_type": "code",
   "execution_count": 47,
   "metadata": {},
   "outputs": [
    {
     "name": "stdout",
     "output_type": "stream",
     "text": [
      "0.32142857142857145, 0.3333333333333333, 0.5365853658536586, 1.0740740740740742, 1.173913043478261, 1.3492063492063493, 1.3150684931506849, 1.7099236641221374, 1.6814159292035398, 1.49079754601227, 1.6747967479674797, 1.6164383561643836, 1.8345323741007193, 1.9068627450980393, 1.9690265486725664, 2.1511254019292605, 2.1140684410646386, 3.0319767441860463, 2.143598615916955, "
     ]
    }
   ],
   "source": [
    "for i in range(0,19):\n",
    "    x=urldict[i]/paperdict[i]\n",
    "    print(x,end=\", \")"
   ]
  },
  {
   "cell_type": "code",
   "execution_count": null,
   "metadata": {},
   "outputs": [],
   "source": []
  }
 ],
 "metadata": {
  "kernelspec": {
   "display_name": "Python 3",
   "language": "python",
   "name": "python3"
  },
  "language_info": {
   "codemirror_mode": {
    "name": "ipython",
    "version": 3
   },
   "file_extension": ".py",
   "mimetype": "text/x-python",
   "name": "python",
   "nbconvert_exporter": "python",
   "pygments_lexer": "ipython3",
   "version": "3.7.2"
  }
 },
 "nbformat": 4,
 "nbformat_minor": 2
}
